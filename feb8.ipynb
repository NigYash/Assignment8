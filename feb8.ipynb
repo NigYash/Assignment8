{
 "cells": [
  {
   "attachments": {},
   "cell_type": "markdown",
   "metadata": {},
   "source": [
    "Q1 : What is abstraction in oops? Explain with example.\n",
    "\n",
    "A1: Abstraction is the hiding the unecessary details so that the focus on the whole product instead of the parts of the product seperately.\n",
    "\n",
    "Lets us take an example of a car's engine . it composed of the many parts such as camshaft, oil pan, values etc, these flayers the engine is an abstraction.\n"
   ]
  },
  {
   "attachments": {},
   "cell_type": "markdown",
   "metadata": {},
   "source": [
    "Q2: Differentiate between Abstarstion And Encapsulation?\n",
    "\n",
    "A2 : Abstraction\n",
    "\n",
    "    It is used to solves the problems arises during the design stage.\n",
    "\n",
    "    It can be implemented by using Interface and abstract class.\n",
    "    \n",
    "    Encapsulation\n",
    "\n",
    "    It is used to solves the problems arises during the implementation stage.\n",
    "\n",
    "    It can be implemented using access modifiers.\n",
    "    "
   ]
  },
  {
   "attachments": {},
   "cell_type": "markdown",
   "metadata": {},
   "source": [
    "Q3: What is abc module in python? Why it used.\n",
    "\n",
    "A3: The abc module in Python is a collection of abstract base classes\n",
    "\n",
    "import abc \n",
    "class pwskilss:\n",
    "    \n",
    "    @abc.abstractmethod\n",
    "    def students_details(self):\n",
    "        pass\n",
    "\n",
    "    @abc.abstractmethod\n",
    "    def students_assignments(self):\n",
    "        pass\n",
    "\n",
    "    @abc.abstractmethod\n",
    "    def students_marks(self):\n",
    "        pass"
   ]
  },
  {
   "attachments": {},
   "cell_type": "markdown",
   "metadata": {},
   "source": [
    "Q4: How can we achieve data abstraction?\n",
    "\n",
    "A4:Data abstraction is a method where essential elements are displayed to the user and trivial elements are kept hidden. Abstraction is achieved by using the abstract keyword for classes and interfaces."
   ]
  },
  {
   "attachments": {},
   "cell_type": "markdown",
   "metadata": {},
   "source": [
    "Q5: Can we create an instance of an abstract class? Explain\n",
    "\n",
    "A5: No, we can't create an instance of an abstact class, but they can be sub classed."
   ]
  },
  {
   "cell_type": "markdown",
   "metadata": {},
   "source": []
  }
 ],
 "metadata": {
  "kernelspec": {
   "display_name": "Python 3",
   "language": "python",
   "name": "python3"
  },
  "language_info": {
   "codemirror_mode": {
    "name": "ipython",
    "version": 3
   },
   "file_extension": ".py",
   "mimetype": "text/x-python",
   "name": "python",
   "nbconvert_exporter": "python",
   "pygments_lexer": "ipython3",
   "version": "3.9.10"
  },
  "orig_nbformat": 4
 },
 "nbformat": 4,
 "nbformat_minor": 2
}
